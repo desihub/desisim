{
 "cells": [
  {
   "cell_type": "code",
   "execution_count": 24,
   "metadata": {
    "collapsed": false
   },
   "outputs": [
    {
     "name": "stderr",
     "output_type": "stream",
     "text": [
      ":0: FutureWarning: IPython widgets are experimental and may change in the future.\n"
     ]
    }
   ],
   "source": [
    "import numpy as np\n",
    "import matplotlib.pyplot as plt\n",
    "\n",
    "from astropy.table import Table, Column\n",
    "from astropy.io import fits\n",
    "\n",
    "import seaborn as sns\n",
    "from desisim.templates import STAR\n",
    "\n",
    "sns.set(style='white', font_scale=1.6, palette='deep')\n",
    "%matplotlib inline\n",
    "\n",
    "LIGHT = 2.99792458E5  #- speed of light in km/s"
   ]
  },
  {
   "cell_type": "code",
   "execution_count": 2,
   "metadata": {
    "collapsed": false
   },
   "outputs": [
    {
     "name": "stdout",
     "output_type": "stream",
     "text": [
      "ColDefs(\n",
      "    name = 'X'; format = 'E'; unit = 'kpc'\n",
      "    name = 'Y'; format = 'E'; unit = 'kpc'\n",
      "    name = 'Z'; format = 'E'; unit = 'kpc'\n",
      "    name = 'l'; format = 'E'; unit = 'deg'\n",
      "    name = 'b'; format = 'E'; unit = 'deg'\n",
      "    name = 'RA'; format = 'D'; unit = 'deg'\n",
      "    name = 'DEC'; format = 'D'; unit = 'deg'\n",
      "    name = 'pm_l'; format = 'E'\n",
      "    name = 'pm_b'; format = 'E'\n",
      "    name = 'pm_RA'; format = 'E'\n",
      "    name = 'pm_DEC'; format = 'E'\n",
      "    name = 'pm_l_kms'; format = 'E'; unit = 'km s-1'\n",
      "    name = 'pm_b_kms'; format = 'E'; unit = 'km s-1'\n",
      "    name = 'pm_RA_kms'; format = 'E'; unit = 'km s-1'\n",
      "    name = 'pm_DEC_kms'; format = 'E'; unit = 'km s-1'\n",
      "    name = 'v_helio'; format = 'E'; unit = 'km s-1'\n",
      "    name = 'd_helio'; format = 'E'; unit = 'kpc'\n",
      "    name = 'DM'; format = 'E'; unit = 'mag'\n",
      "    name = 'ABV'; format = 'E'; unit = 'mag'\n",
      "    name = 'SDSSu_true_nodust'; format = 'E'; unit = 'mag'\n",
      "    name = 'SDSSu_true'; format = 'E'; unit = 'mag'\n",
      "    name = 'SDSSu_obs'; format = 'E'; unit = 'mag'\n",
      "    name = 'SDSSg_true_nodust'; format = 'E'; unit = 'mag'\n",
      "    name = 'SDSSg_true'; format = 'E'; unit = 'mag'\n",
      "    name = 'SDSSg_obs'; format = 'E'; unit = 'mag'\n",
      "    name = 'SDSSr_true_nodust'; format = 'E'; unit = 'mag'\n",
      "    name = 'SDSSr_true'; format = 'E'; unit = 'mag'\n",
      "    name = 'SDSSr_obs'; format = 'E'; unit = 'mag'\n",
      "    name = 'SDSSi_true_nodust'; format = 'E'; unit = 'mag'\n",
      "    name = 'SDSSi_true'; format = 'E'; unit = 'mag'\n",
      "    name = 'SDSSi_obs'; format = 'E'; unit = 'mag'\n",
      "    name = 'SDSSz_true_nodust'; format = 'E'; unit = 'mag'\n",
      "    name = 'SDSSz_true'; format = 'E'; unit = 'mag'\n",
      "    name = 'SDSSz_obs'; format = 'E'; unit = 'mag'\n",
      "    name = 'FeH'; format = 'E'\n",
      "    name = 'age'; format = 'E'\n",
      "    name = 'teff'; format = 'E'\n",
      "    name = 'logg'; format = 'E'\n",
      "    name = 'mtip'; format = 'E'\n",
      "    name = 'mact'; format = 'E'\n",
      "    name = 'smass'; format = 'E'\n",
      "    name = 'popid'; format = 'J'\n",
      "    name = 'brickname'; format = '8A'\n",
      "    name = 'brickid'; format = 'K'\n",
      "    name = 'vRcyl'; format = 'E'; unit = 'km s-1'\n",
      "    name = 'vPHIcyl'; format = 'E'; unit = 'km s-1'\n",
      "    name = 'vZcyl'; format = 'E'; unit = 'km s-1'\n",
      "    name = 'vX'; format = 'E'; unit = 'km s-1'\n",
      "    name = 'vY'; format = 'E'; unit = 'km s-1'\n",
      "    name = 'vZ'; format = 'E'; unit = 'km s-1'\n",
      "    name = 'vU'; format = 'E'; unit = 'km s-1'\n",
      "    name = 'vV'; format = 'E'; unit = 'km s-1'\n",
      "    name = 'vW'; format = 'E'; unit = 'km s-1'\n",
      "    name = 'objid'; format = 'K'\n",
      ")\n"
     ]
    }
   ],
   "source": [
    "cat = fits.getdata('allsky_galaxia_desi_3250p100.fits', ext=1)[:50]\n",
    "print(cat.columns)\n",
    "nstar = len(cat)"
   ]
  },
  {
   "cell_type": "code",
   "execution_count": 33,
   "metadata": {
    "collapsed": false
   },
   "outputs": [
    {
     "name": "stdout",
     "output_type": "stream",
     "text": [
      "  REDSHIFT     MAG     TEFF    LOGG      FEH     \n",
      "------------ ------- ------- ------- ------------\n",
      " 6.01848e-05 15.8917 3282.58 5.13229   -0.0315856\n",
      " 7.99531e-06 15.8664 3312.49 5.14478  -0.00470402\n",
      " 1.74716e-05 15.5964  3334.0 5.10969     0.125893\n",
      " 5.70486e-05 15.3146  3410.2 5.09782   0.00320513\n",
      " 9.38985e-05 15.8247 3458.58 5.05803      0.09498\n",
      " 6.27923e-07 16.7426 3363.57 5.13803   -0.0633323\n",
      "  6.7137e-05 15.4234 3541.03 5.01888     0.117763\n",
      " 1.90811e-05 15.9689 3328.64 5.12838    0.0616664\n",
      " -3.0621e-05 16.0427 3437.96 5.08739    0.0287824\n",
      " 4.54792e-05 16.8698 3183.28 5.06934    0.0716745\n",
      "         ...     ...     ...     ...          ...\n",
      " 3.58418e-05 16.7595 3747.99  4.9196    0.0784587\n",
      " 1.90153e-05 16.8555 3714.92 5.02444    -0.199071\n",
      " 3.06857e-05 16.3044 3736.91 4.92545    0.0748472\n",
      " 2.32337e-05 16.5411 3746.77 4.94087    0.0415284\n",
      " 2.91573e-05 15.7813 3914.63  4.8843    -0.070128\n",
      " 5.86529e-05 15.7828 3874.55 4.87909    0.0612046\n",
      " 4.08882e-05 16.2609 3803.28 4.93451   -0.0935629\n",
      " 3.85907e-05 15.7646 3852.14  4.8871    0.0422427\n",
      " 6.75188e-05  15.183 3950.25 4.86165   -0.0354204\n",
      "  5.5018e-05    15.6 3899.85 4.87055 -0.000304453\n",
      "-3.83855e-05 15.8483 3892.32 4.87288    0.0097494\n",
      "Length = 50 rows\n"
     ]
    }
   ],
   "source": [
    "# Build the input Table needed by desisim.templates.\n",
    "input_data = Table()\n",
    "input_data.add_column(Column(name='REDSHIFT', length=nstar, dtype='f4'))\n",
    "input_data.add_column(Column(name='MAG', length=nstar, dtype='f4'))\n",
    "input_data.add_column(Column(name='TEFF', length=nstar, dtype='f4'))\n",
    "input_data.add_column(Column(name='LOGG', length=nstar, dtype='f4'))\n",
    "input_data.add_column(Column(name='FEH', length=nstar, dtype='f4'))\n",
    "\n",
    "normfilter = 'sdss2010-r'\n",
    "input_data['REDSHIFT'] = cat['v_helio'] / LIGHT\n",
    "input_data['MAG'] = cat['SDSSr_true_nodust']\n",
    "input_data['TEFF'] = 10**cat['teff']\n",
    "input_data['LOGG'] = cat['logg']\n",
    "input_data['FEH'] = cat['FeH']\n",
    "\n",
    "print(input_data)"
   ]
  },
  {
   "cell_type": "code",
   "execution_count": 29,
   "metadata": {
    "collapsed": false
   },
   "outputs": [
    {
     "data": {
      "image/png": "[encoded data removed]",
      "text/plain": [
       "<matplotlib.figure.Figure at 0x1493375d0>"
      ]
     },
     "metadata": {},
     "output_type": "display_data"
    },
    {
     "data": {
      "image/png": "[encoded data removed]",
      "text/plain": [
       "<matplotlib.figure.Figure at 0x14634cd10>"
      ]
     },
     "metadata": {},
     "output_type": "display_data"
    }
   ],
   "source": [
    "fig, (ax1, ax2) = plt.subplots(1, 2, figsize=(10, 5))\n",
    "_, _, _ = ax1.hist(input_data['MAG'])\n",
    "ax1.set_ylabel('Number of Stars per bin')\n",
    "ax1.set_xlabel('SDSS r (AB mag)')\n",
    "\n",
    "_, _, _ = ax2.hist(input_data['REDSHIFT'] * LIGHT)\n",
    "ax2.set_xlabel('Heliocentric Redshift')\n",
    "\n",
    "fig, (ax1, ax2) = plt.subplots(2, 1, sharex=True, figsize=(6, 8))\n",
    "ax1.scatter(input_data['TEFF'], input_data['LOGG'])\n",
    "ax1.set_ylabel('log $(g / cm s^{-2})$')\n",
    "ax1.margins(0.05)\n",
    "\n",
    "ax2.scatter(input_data['TEFF'], input_data['FEH'])\n",
    "ax2.set_xlabel('T$_{eff}$ (K)')\n",
    "ax2.set_ylabel('[Fe/H]')\n",
    "ax2.margins(0.05)\n",
    "fig.subplots_adjust(hspace=0.04)"
   ]
  },
  {
   "cell_type": "code",
   "execution_count": 34,
   "metadata": {
    "collapsed": false
   },
   "outputs": [
    {
     "name": "stdout",
     "output_type": "stream",
     "text": [
      "INFO:io.py:611:read_basis_templates: Reading /Users/ioannis/research/projects/desi/spectro/templates/basis_templates/v2.2/star_templates_v2.1.fits\n"
     ]
    },
    {
     "name": "stderr",
     "output_type": "stream",
     "text": [
      "INFO:DESI:Reading /Users/ioannis/research/projects/desi/spectro/templates/basis_templates/v2.2/star_templates_v2.1.fits\n"
     ]
    },
    {
     "name": "stdout",
     "output_type": "stream",
     "text": [
      "OBJTYPE TEMPLATEID    SEED      REDSHIFT   ... AGE    TEFF    LOGG      FEH     \n",
      "                                           ... Gyr     K     m / s2             \n",
      "------- ---------- ---------- ------------ ... ---- ------- ------- ------------\n",
      "   STAR          0 2991312382  6.01848e-05 ... -1.0 3282.58 5.13229   -0.0315856\n",
      "   STAR          1 3062119789  7.99531e-06 ... -1.0 3312.49 5.14478  -0.00470402\n",
      "   STAR          2 1228959102  1.74716e-05 ... -1.0  3334.0 5.10969     0.125893\n",
      "   STAR          3 1840268610  5.70486e-05 ... -1.0  3410.2 5.09782   0.00320513\n",
      "   STAR          4  974319580  9.38985e-05 ... -1.0 3458.58 5.05803      0.09498\n",
      "   STAR          5 2967327842  6.27923e-07 ... -1.0 3363.57 5.13803   -0.0633323\n",
      "   STAR          6 2367878886   6.7137e-05 ... -1.0 3541.03 5.01888     0.117763\n",
      "   STAR          7 3088727057  1.90811e-05 ... -1.0 3328.64 5.12838    0.0616664\n",
      "   STAR          8 3090095699  -3.0621e-05 ... -1.0 3437.96 5.08739    0.0287824\n",
      "   STAR          9 2109339754  4.54792e-05 ... -1.0 3183.28 5.06934    0.0716745\n",
      "    ...        ...        ...          ... ...  ...     ...     ...          ...\n",
      "   STAR         40 2724731384  1.90153e-05 ... -1.0 3714.92 5.02444    -0.199071\n",
      "   STAR         41 1278957501  3.06857e-05 ... -1.0 3736.91 4.92545    0.0748472\n",
      "   STAR         42 3648281776  2.32337e-05 ... -1.0 3746.77 4.94087    0.0415284\n",
      "   STAR         43 2113488007  2.91573e-05 ... -1.0 3914.63  4.8843    -0.070128\n",
      "   STAR         44 3111511913  5.86529e-05 ... -1.0 3874.55 4.87909    0.0612046\n",
      "   STAR         45 3179548771  4.08882e-05 ... -1.0 3803.28 4.93451   -0.0935629\n",
      "   STAR         46 2624326012  3.85907e-05 ... -1.0 3852.14  4.8871    0.0422427\n",
      "   STAR         47 1536434012  6.75188e-05 ... -1.0 3950.25 4.86165   -0.0354204\n",
      "   STAR         48 3102870708   5.5018e-05 ... -1.0 3899.85 4.87055 -0.000304453\n",
      "   STAR         49 1791903078 -3.83855e-05 ... -1.0 3892.32 4.87288    0.0097494\n",
      "Length = 50 rows\n"
     ]
    }
   ],
   "source": [
    "seed = 123\n",
    "star = STAR(normfilter=normfilter)\n",
    "flux, wave, meta = star.make_templates(seed=seed, mag=mag, redshift=redshift, input_data=input_data)\n",
    "print(meta)"
   ]
  },
  {
   "cell_type": "code",
   "execution_count": null,
   "metadata": {
    "collapsed": true
   },
   "outputs": [],
   "source": []
  }
 ],
 "metadata": {
  "kernelspec": {
   "display_name": "Python 2",
   "language": "python",
   "name": "python2"
  },
  "language_info": {
   "codemirror_mode": {
    "name": "ipython",
    "version": 2
   },
   "file_extension": ".py",
   "mimetype": "text/x-python",
   "name": "python",
   "nbconvert_exporter": "python",
   "pygments_lexer": "ipython2",
   "version": "2.7.12"
  }
 },
 "nbformat": 4,
 "nbformat_minor": 0
}
