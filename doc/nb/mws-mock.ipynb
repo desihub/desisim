{
 "cells": [
  {
   "cell_type": "code",
   "execution_count": 63,
   "metadata": {
    "collapsed": true
   },
   "outputs": [],
   "source": [
    "import numpy as np\n",
    "import matplotlib.pyplot as plt\n",
    "\n",
    "from astropy.table import Table, Column\n",
    "from astropy.io import fits\n",
    "\n",
    "from desisim.templates import STAR\n",
    "\n",
    "%matplotlib inline\n",
    "\n",
    "LIGHT = 2.99792458E5  #- speed of light in km/s"
   ]
  },
  {
   "cell_type": "code",
   "execution_count": 57,
   "metadata": {
    "collapsed": false
   },
   "outputs": [
    {
     "name": "stdout",
     "output_type": "stream",
     "text": [
      "ColDefs(\n",
      "    name = 'X'; format = 'E'; unit = 'kpc'\n",
      "    name = 'Y'; format = 'E'; unit = 'kpc'\n",
      "    name = 'Z'; format = 'E'; unit = 'kpc'\n",
      "    name = 'l'; format = 'E'; unit = 'deg'\n",
      "    name = 'b'; format = 'E'; unit = 'deg'\n",
      "    name = 'RA'; format = 'D'; unit = 'deg'\n",
      "    name = 'DEC'; format = 'D'; unit = 'deg'\n",
      "    name = 'pm_l'; format = 'E'\n",
      "    name = 'pm_b'; format = 'E'\n",
      "    name = 'pm_RA'; format = 'E'\n",
      "    name = 'pm_DEC'; format = 'E'\n",
      "    name = 'pm_l_kms'; format = 'E'; unit = 'km s-1'\n",
      "    name = 'pm_b_kms'; format = 'E'; unit = 'km s-1'\n",
      "    name = 'pm_RA_kms'; format = 'E'; unit = 'km s-1'\n",
      "    name = 'pm_DEC_kms'; format = 'E'; unit = 'km s-1'\n",
      "    name = 'v_helio'; format = 'E'; unit = 'km s-1'\n",
      "    name = 'd_helio'; format = 'E'; unit = 'kpc'\n",
      "    name = 'DM'; format = 'E'; unit = 'mag'\n",
      "    name = 'ABV'; format = 'E'; unit = 'mag'\n",
      "    name = 'SDSSu_true_nodust'; format = 'E'; unit = 'mag'\n",
      "    name = 'SDSSu_true'; format = 'E'; unit = 'mag'\n",
      "    name = 'SDSSu_obs'; format = 'E'; unit = 'mag'\n",
      "    name = 'SDSSg_true_nodust'; format = 'E'; unit = 'mag'\n",
      "    name = 'SDSSg_true'; format = 'E'; unit = 'mag'\n",
      "    name = 'SDSSg_obs'; format = 'E'; unit = 'mag'\n",
      "    name = 'SDSSr_true_nodust'; format = 'E'; unit = 'mag'\n",
      "    name = 'SDSSr_true'; format = 'E'; unit = 'mag'\n",
      "    name = 'SDSSr_obs'; format = 'E'; unit = 'mag'\n",
      "    name = 'SDSSi_true_nodust'; format = 'E'; unit = 'mag'\n",
      "    name = 'SDSSi_true'; format = 'E'; unit = 'mag'\n",
      "    name = 'SDSSi_obs'; format = 'E'; unit = 'mag'\n",
      "    name = 'SDSSz_true_nodust'; format = 'E'; unit = 'mag'\n",
      "    name = 'SDSSz_true'; format = 'E'; unit = 'mag'\n",
      "    name = 'SDSSz_obs'; format = 'E'; unit = 'mag'\n",
      "    name = 'FeH'; format = 'E'\n",
      "    name = 'age'; format = 'E'\n",
      "    name = 'teff'; format = 'E'\n",
      "    name = 'logg'; format = 'E'\n",
      "    name = 'mtip'; format = 'E'\n",
      "    name = 'mact'; format = 'E'\n",
      "    name = 'smass'; format = 'E'\n",
      "    name = 'popid'; format = 'J'\n",
      "    name = 'brickname'; format = '8A'\n",
      "    name = 'brickid'; format = 'K'\n",
      "    name = 'vRcyl'; format = 'E'; unit = 'km s-1'\n",
      "    name = 'vPHIcyl'; format = 'E'; unit = 'km s-1'\n",
      "    name = 'vZcyl'; format = 'E'; unit = 'km s-1'\n",
      "    name = 'vX'; format = 'E'; unit = 'km s-1'\n",
      "    name = 'vY'; format = 'E'; unit = 'km s-1'\n",
      "    name = 'vZ'; format = 'E'; unit = 'km s-1'\n",
      "    name = 'vU'; format = 'E'; unit = 'km s-1'\n",
      "    name = 'vV'; format = 'E'; unit = 'km s-1'\n",
      "    name = 'vW'; format = 'E'; unit = 'km s-1'\n",
      "    name = 'objid'; format = 'K'\n",
      ")\n"
     ]
    }
   ],
   "source": [
    "cat = fits.getdata('allsky_galaxia_desi_3250p100.fits', ext=1)[:50]\n",
    "print(cat.columns)\n",
    "nstar = len(cat)"
   ]
  },
  {
   "cell_type": "code",
   "execution_count": 66,
   "metadata": {
    "collapsed": false
   },
   "outputs": [
    {
     "name": "stdout",
     "output_type": "stream",
     "text": [
      "  TEFF    LOGG      FEH     \n",
      "------- ------- ------------\n",
      "3.51622 5.13229   -0.0315856\n",
      "3.52015 5.14478  -0.00470402\n",
      "3.52296 5.10969     0.125893\n",
      "3.53278 5.09782   0.00320513\n",
      " 3.5389 5.05803      0.09498\n",
      " 3.5268 5.13803   -0.0633323\n",
      "3.54913 5.01888     0.117763\n",
      "3.52227 5.12838    0.0616664\n",
      " 3.5363 5.08739    0.0287824\n",
      "3.50288 5.06934    0.0716745\n",
      "    ...     ...          ...\n",
      " 3.5738  4.9196    0.0784587\n",
      "3.56995 5.02444    -0.199071\n",
      "3.57251 4.92545    0.0748472\n",
      "3.57366 4.94087    0.0415284\n",
      "3.59269  4.8843    -0.070128\n",
      "3.58822 4.87909    0.0612046\n",
      "3.58016 4.93451   -0.0935629\n",
      " 3.5857  4.8871    0.0422427\n",
      "3.59662 4.86165   -0.0354204\n",
      "3.59105 4.87055 -0.000304453\n",
      "3.59021 4.87288    0.0097494\n",
      "Length = 50 rows\n",
      "(array([ 15.89173412,  15.86643696,  15.59639931,  15.31458473,\n",
      "        15.82471466,  16.74263191,  15.423419  ,  15.96891975,\n",
      "        16.04267311,  16.8698082 ,  16.39355469,  16.8600235 ,\n",
      "        15.69763565,  15.41640759,  16.25896072,  16.7113533 ,\n",
      "        16.40490723,  16.45006943,  15.44514179,  15.5437088 ,\n",
      "        15.94273472,  16.52262115,  16.87535667,  15.42947102,\n",
      "        16.1270256 ,  16.68132401,  16.81311035,  16.86811447,\n",
      "        16.17206573,  16.28484344,  16.15389633,  16.23460007,\n",
      "        15.42936897,  16.97278404,  16.94956207,  16.13525772,\n",
      "        16.77839661,  16.95187378,  16.03029442,  16.7594986 ,\n",
      "        16.85549355,  16.30438042,  16.54113197,  15.78131485,\n",
      "        15.78281116,  16.26093292,  15.76455212,  15.18301773,\n",
      "        15.59998226,  15.84834766], dtype=float32), array([  6.01847933e-05,   7.99531063e-06,   1.74715551e-05,\n",
      "         5.70486336e-05,   9.38985249e-05,   6.27923384e-07,\n",
      "         6.71369853e-05,   1.90810824e-05,  -3.06210459e-05,\n",
      "         4.54791989e-05,   2.89673062e-05,   6.71093949e-05,\n",
      "         7.28249506e-05,  -3.99453165e-05,   5.26035947e-05,\n",
      "         6.27050322e-05,   3.35682416e-05,   1.54278423e-05,\n",
      "         1.87752394e-05,  -3.50178402e-06,  -1.91938834e-05,\n",
      "         1.35748278e-05,  -5.80529231e-05,   7.49862593e-05,\n",
      "         1.00530968e-04,   5.02367002e-05,  -1.28218162e-05,\n",
      "         4.84728787e-07,   7.17825023e-05,   5.64134425e-05,\n",
      "         6.39051359e-05,   6.88230284e-05,   4.18882992e-05,\n",
      "         3.69660338e-05,   7.45812140e-05,   1.02541788e-04,\n",
      "         5.44877403e-05,   6.76142809e-05,   6.07099719e-06,\n",
      "         3.58418220e-05,   1.90153241e-05,   3.06857364e-05,\n",
      "         2.32336897e-05,   2.91573233e-05,   5.86529386e-05,\n",
      "         4.08881970e-05,   3.85907297e-05,   6.75188348e-05,\n",
      "         5.50179611e-05,  -3.83854567e-05], dtype=float32))\n"
     ]
    }
   ],
   "source": [
    "# Build the input Table needed by desisim.templates.\n",
    "input_data = Table()\n",
    "input_data.add_column(Column(name='TEFF', length=nstar, dtype='f4'))\n",
    "input_data.add_column(Column(name='LOGG', length=nstar, dtype='f4'))\n",
    "input_data.add_column(Column(name='FEH', length=nstar, dtype='f4'))\n",
    "input_data['TEFF'] = cat['teff']\n",
    "input_data['LOGG'] = cat['logg']\n",
    "input_data['FEH'] = cat['FeH']\n",
    "print(input_data)\n",
    "\n",
    "normfilter = 'sdss2010-r'\n",
    "mag = cat['SDSSr_true_nodust']\n",
    "redshift = cat['v_helio'] / LIGHT\n",
    "print(mag, redshift)"
   ]
  },
  {
   "cell_type": "code",
   "execution_count": 68,
   "metadata": {
    "collapsed": false
   },
   "outputs": [
    {
     "name": "stdout",
     "output_type": "stream",
     "text": [
      "50\n",
      "INFO:io.py:611:read_basis_templates: Reading /Users/ioannis/research/projects/desi/spectro/templates/basis_templates/v2.2/star_templates_v2.1.fits\n"
     ]
    },
    {
     "name": "stderr",
     "output_type": "stream",
     "text": [
      "INFO:DESI:Reading /Users/ioannis/research/projects/desi/spectro/templates/basis_templates/v2.2/star_templates_v2.1.fits\n"
     ]
    },
    {
     "name": "stdout",
     "output_type": "stream",
     "text": [
      "CRITICAL:templates.py:1134:make_star_templates: Redshift must be an nmodel-length array\n"
     ]
    },
    {
     "name": "stderr",
     "output_type": "stream",
     "text": [
      "CRITICAL:DESI:Redshift must be an nmodel-length array\n"
     ]
    },
    {
     "ename": "ValueError",
     "evalue": "",
     "output_type": "error",
     "traceback": [
      "\u001b[0;31m---------------------------------------------------------------------------\u001b[0m",
      "\u001b[0;31mValueError\u001b[0m                                Traceback (most recent call last)",
      "\u001b[0;32m<ipython-input-68-ab40777f09b3>\u001b[0m in \u001b[0;36m<module>\u001b[0;34m()\u001b[0m\n\u001b[1;32m      2\u001b[0m \u001b[0;32mprint\u001b[0m\u001b[0;34m(\u001b[0m\u001b[0mlen\u001b[0m\u001b[0;34m(\u001b[0m\u001b[0mredshift\u001b[0m\u001b[0;34m)\u001b[0m\u001b[0;34m)\u001b[0m\u001b[0;34m\u001b[0m\u001b[0m\n\u001b[1;32m      3\u001b[0m \u001b[0mstar\u001b[0m \u001b[0;34m=\u001b[0m \u001b[0mSTAR\u001b[0m\u001b[0;34m(\u001b[0m\u001b[0mnormfilter\u001b[0m\u001b[0;34m=\u001b[0m\u001b[0mnormfilter\u001b[0m\u001b[0;34m)\u001b[0m\u001b[0;34m\u001b[0m\u001b[0m\n\u001b[0;32m----> 4\u001b[0;31m \u001b[0mflux\u001b[0m\u001b[0;34m,\u001b[0m \u001b[0mwave\u001b[0m\u001b[0;34m,\u001b[0m \u001b[0mmeta\u001b[0m \u001b[0;34m=\u001b[0m \u001b[0mstar\u001b[0m\u001b[0;34m.\u001b[0m\u001b[0mmake_templates\u001b[0m\u001b[0;34m(\u001b[0m\u001b[0mmag\u001b[0m\u001b[0;34m=\u001b[0m\u001b[0mmag\u001b[0m\u001b[0;34m,\u001b[0m \u001b[0mredshift\u001b[0m\u001b[0;34m=\u001b[0m\u001b[0mredshift\u001b[0m\u001b[0;34m,\u001b[0m \u001b[0minput_data\u001b[0m\u001b[0;34m=\u001b[0m\u001b[0minput_data\u001b[0m\u001b[0;34m,\u001b[0m \u001b[0mseed\u001b[0m\u001b[0;34m=\u001b[0m\u001b[0mseed\u001b[0m\u001b[0;34m)\u001b[0m\u001b[0;34m\u001b[0m\u001b[0m\n\u001b[0m",
      "\u001b[0;32m/Users/ioannis/repos/git/desihub/desisim/py/desisim/templates.pyc\u001b[0m in \u001b[0;36mmake_templates\u001b[0;34m(self, nmodel, vrad_meansig, rmagrange, seed, redshift, mag, input_meta, input_data)\u001b[0m\n\u001b[1;32m   1336\u001b[0m         outflux, wave, meta = self.make_star_templates(nmodel=nmodel, vrad_meansig=vrad_meansig,\n\u001b[1;32m   1337\u001b[0m                                                        \u001b[0mmagrange\u001b[0m\u001b[0;34m=\u001b[0m\u001b[0mrmagrange\u001b[0m\u001b[0;34m,\u001b[0m \u001b[0mseed\u001b[0m\u001b[0;34m=\u001b[0m\u001b[0mseed\u001b[0m\u001b[0;34m,\u001b[0m \u001b[0mredshift\u001b[0m\u001b[0;34m=\u001b[0m\u001b[0mredshift\u001b[0m\u001b[0;34m,\u001b[0m\u001b[0;34m\u001b[0m\u001b[0m\n\u001b[0;32m-> 1338\u001b[0;31m                                                        mag=mag, input_meta=input_meta, input_data=input_data)\n\u001b[0m\u001b[1;32m   1339\u001b[0m         \u001b[0;32mreturn\u001b[0m \u001b[0moutflux\u001b[0m\u001b[0;34m,\u001b[0m \u001b[0mwave\u001b[0m\u001b[0;34m,\u001b[0m \u001b[0mmeta\u001b[0m\u001b[0;34m\u001b[0m\u001b[0m\n\u001b[1;32m   1340\u001b[0m \u001b[0;34m\u001b[0m\u001b[0m\n",
      "\u001b[0;32m/Users/ioannis/repos/git/desihub/desisim/py/desisim/templates.pyc\u001b[0m in \u001b[0;36mmake_star_templates\u001b[0;34m(self, nmodel, vrad_meansig, magrange, seed, redshift, mag, input_meta, input_data, nocolorcuts)\u001b[0m\n\u001b[1;32m   1133\u001b[0m             \u001b[0;32mif\u001b[0m \u001b[0mlen\u001b[0m\u001b[0;34m(\u001b[0m\u001b[0mredshift\u001b[0m\u001b[0;34m)\u001b[0m \u001b[0;34m!=\u001b[0m \u001b[0mnmodel\u001b[0m\u001b[0;34m:\u001b[0m\u001b[0;34m\u001b[0m\u001b[0m\n\u001b[1;32m   1134\u001b[0m                 \u001b[0mlog\u001b[0m\u001b[0;34m.\u001b[0m\u001b[0mfatal\u001b[0m\u001b[0;34m(\u001b[0m\u001b[0;34m'Redshift must be an nmodel-length array'\u001b[0m\u001b[0;34m)\u001b[0m\u001b[0;34m\u001b[0m\u001b[0m\n\u001b[0;32m-> 1135\u001b[0;31m                 \u001b[0;32mraise\u001b[0m \u001b[0mValueError\u001b[0m\u001b[0;34m\u001b[0m\u001b[0m\n\u001b[0m\u001b[1;32m   1136\u001b[0m \u001b[0;34m\u001b[0m\u001b[0m\n\u001b[1;32m   1137\u001b[0m         \u001b[0;32mif\u001b[0m \u001b[0mmag\u001b[0m \u001b[0;32mis\u001b[0m \u001b[0;32mnot\u001b[0m \u001b[0mNone\u001b[0m\u001b[0;34m:\u001b[0m\u001b[0;34m\u001b[0m\u001b[0m\n",
      "\u001b[0;31mValueError\u001b[0m: "
     ]
    }
   ],
   "source": [
    "seed = 123\n",
    "print(len(redshift))\n",
    "star = STAR(normfilter=normfilter)\n",
    "flux, wave, meta = star.make_templates(mag=mag, redshift=redshift, input_data=input_data, seed=seed)"
   ]
  },
  {
   "cell_type": "code",
   "execution_count": null,
   "metadata": {
    "collapsed": true
   },
   "outputs": [],
   "source": []
  }
 ],
 "metadata": {
  "kernelspec": {
   "display_name": "Python 2",
   "language": "python",
   "name": "python2"
  },
  "language_info": {
   "codemirror_mode": {
    "name": "ipython",
    "version": 2
   },
   "file_extension": ".py",
   "mimetype": "text/x-python",
   "name": "python",
   "nbconvert_exporter": "python",
   "pygments_lexer": "ipython2",
   "version": "2.7.12"
  }
 },
 "nbformat": 4,
 "nbformat_minor": 0
}
