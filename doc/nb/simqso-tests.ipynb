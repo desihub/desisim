{
 "cells": [
  {
   "cell_type": "markdown",
   "metadata": {},
   "source": [
    "# Tests of simqso\n",
    "\n",
    "This notebook is a sandbox notebook for testing various aspects of simqso."
   ]
  },
  {
   "cell_type": "code",
   "execution_count": null,
   "metadata": {
    "collapsed": true
   },
   "outputs": [],
   "source": [
    "from desisim.templates import SIMQSO\n",
    "qq = SIMQSO()"
   ]
  },
  {
   "cell_type": "code",
   "execution_count": null,
   "metadata": {},
   "outputs": [],
   "source": [
    "%time flux1, wave1, meta1, qmeta1 = qq.make_templates(5, seed=555, return_qsometa=True)"
   ]
  },
  {
   "cell_type": "code",
   "execution_count": null,
   "metadata": {},
   "outputs": [],
   "source": [
    "%time flux2, wave2, meta2, qmeta2 = qq.make_templates(input_meta=meta1, input_qsometa=qmeta1, return_qsometa=True)"
   ]
  },
  {
   "cell_type": "code",
   "execution_count": null,
   "metadata": {},
   "outputs": [],
   "source": [
    "meta1"
   ]
  },
  {
   "cell_type": "code",
   "execution_count": null,
   "metadata": {},
   "outputs": [],
   "source": [
    "meta2"
   ]
  },
  {
   "cell_type": "code",
   "execution_count": null,
   "metadata": {},
   "outputs": [],
   "source": [
    "qmeta1"
   ]
  },
  {
   "cell_type": "code",
   "execution_count": null,
   "metadata": {},
   "outputs": [],
   "source": [
    "qmeta2"
   ]
  },
  {
   "cell_type": "code",
   "execution_count": null,
   "metadata": {},
   "outputs": [],
   "source": [
    "stop"
   ]
  },
  {
   "cell_type": "code",
   "execution_count": null,
   "metadata": {
    "collapsed": true
   },
   "outputs": [],
   "source": [
    "from desisim.test.test_templates import TestTemplates"
   ]
  },
  {
   "cell_type": "code",
   "execution_count": null,
   "metadata": {
    "collapsed": true
   },
   "outputs": [],
   "source": [
    "tt = TestTemplates()\n",
    "tt.setUp()"
   ]
  },
  {
   "cell_type": "code",
   "execution_count": null,
   "metadata": {
    "collapsed": true
   },
   "outputs": [],
   "source": [
    "tt.test_input_meta()"
   ]
  },
  {
   "cell_type": "code",
   "execution_count": null,
   "metadata": {
    "collapsed": true
   },
   "outputs": [],
   "source": [
    "stop"
   ]
  },
  {
   "cell_type": "code",
   "execution_count": 1,
   "metadata": {
    "collapsed": true
   },
   "outputs": [],
   "source": [
    "import numpy as np\n",
    "import matplotlib.pyplot as plt\n",
    "%matplotlib inline\n",
    "\n",
    "from astropy import cosmology\n",
    "from simqso.sqgrids import *\n",
    "from simqso import sqbase\n",
    "from simqso.sqrun import buildSpectraBulk,buildQsoSpectrum,save_spectra,load_spectra\n",
    "from simqso.sqmodels import BOSS_DR9_PLEpivot,get_BossDr9_model_vars"
   ]
  },
  {
   "cell_type": "code",
   "execution_count": 4,
   "metadata": {
    "collapsed": true
   },
   "outputs": [],
   "source": [
    "def doit(nqso=3, seed=1, input_qsos=None):\n",
    "\n",
    "    rand = np.random.RandomState(seed)\n",
    "    wave = sqbase.fixed_R_dispersion(500, 20e4, 1000)\n",
    "\n",
    "    cosmo = cosmology.core.FlatLambdaCDM(70.0, 0.3)\n",
    "    kcorr = sqbase.ContinuumKCorr('DECam-r', 1450, effWaveBand='SDSS-r')\n",
    "    \n",
    "    if input_qsos is None:\n",
    "        zin = rand.uniform(2, 4, nqso)\n",
    "        qsos = generateQlfPoints(BOSS_DR9_PLEpivot(cosmo=cosmo),\n",
    "                                 (17, 22), (2.0, 4.0),\n",
    "                                 kcorr=kcorr, zin=zin,\n",
    "                                 qlfseed=seed, gridseed=seed)\n",
    "        qsos.write(outFn='test.fits')\n",
    "    else:\n",
    "        M = AbsMagVar(FixedSampler(input_qsos.absMag), kcorr.restBand)\n",
    "        m = AppMagVar(FixedSampler(input_qsos.appMag), kcorr.obsBand)\n",
    "        z = RedshiftVar(FixedSampler(input_qsos.z))\n",
    "        qsos = QsoSimPoints([M, m, z], cosmo=cosmo, units='flux', seed=seed)\n",
    "\n",
    "    sedVars = get_BossDr9_model_vars(qsos, wave, noforest=False)\n",
    "    qsos.addVars(sedVars)\n",
    "    qsos.loadPhotoMap([('DECam', 'DECaLS'), ('WISE', 'AllWISE')])\n",
    "\n",
    "    _, spectra = buildSpectraBulk(wave, qsos, saveSpectra=True, maxIter=5, verbose=10)\n",
    "\n",
    "    return spectra, wave, qsos"
   ]
  },
  {
   "cell_type": "code",
   "execution_count": 5,
   "metadata": {},
   "outputs": [
    {
     "name": "stdout",
     "output_type": "stream",
     "text": [
      "simulating  3  quasar spectra\n",
      "units are  flux\n",
      "buildSpectra iteration  1  out of  5\n",
      "--> delta mag mean = -0.2013750, rms = 0.0482204, |max| = 0.2377449\n",
      "buildSpectra iteration  2  out of  5\n",
      "--> delta mag mean = -0.0224523, rms = 0.0146702, |max| = 0.0361112\n",
      "buildSpectra iteration  3  out of  5\n",
      "--> delta mag mean = -0.0007557, rms = 0.0005813, |max| = 0.0014222\n"
     ]
    }
   ],
   "source": [
    "spec1, wave, qsos = doit(seed=555)"
   ]
  },
  {
   "cell_type": "code",
   "execution_count": null,
   "metadata": {
    "collapsed": true
   },
   "outputs": [],
   "source": [
    "spec2, _, qsos2 = doit(seed=555, input_qsos=qsos)\n",
    "np.all(spec1 == spec2)"
   ]
  },
  {
   "cell_type": "code",
   "execution_count": null,
   "metadata": {
    "collapsed": true
   },
   "outputs": [],
   "source": [
    "qsos.data"
   ]
  },
  {
   "cell_type": "code",
   "execution_count": null,
   "metadata": {
    "collapsed": true
   },
   "outputs": [],
   "source": [
    "qsos2.data"
   ]
  },
  {
   "cell_type": "code",
   "execution_count": null,
   "metadata": {
    "collapsed": true
   },
   "outputs": [],
   "source": [
    "plt.plot(wave, spec1[0, :])\n",
    "plt.plot(wave, spec2[0, :], alpha=0.5)\n",
    "plt.xlim(3000, 8000)"
   ]
  },
  {
   "cell_type": "code",
   "execution_count": null,
   "metadata": {
    "collapsed": true
   },
   "outputs": [],
   "source": [
    "plt.plot(wave, spec1[0, :] / spec2[0, :])\n",
    "plt.xlim(3000, 8000)"
   ]
  },
  {
   "cell_type": "code",
   "execution_count": null,
   "metadata": {
    "collapsed": true
   },
   "outputs": [],
   "source": [
    "stop"
   ]
  },
  {
   "cell_type": "code",
   "execution_count": null,
   "metadata": {
    "collapsed": true
   },
   "outputs": [],
   "source": [
    "spec1, wave, qsos = doit(seed=1)\n",
    "spec2, _, _ = doit(seed=1)\n",
    "spec3, _, _ = doit(seed=2)\n",
    "spec4, _, _ = doit(seed=1)"
   ]
  },
  {
   "cell_type": "code",
   "execution_count": null,
   "metadata": {
    "collapsed": true
   },
   "outputs": [],
   "source": [
    "assert(np.all(spec1 == spec2))"
   ]
  },
  {
   "cell_type": "code",
   "execution_count": null,
   "metadata": {
    "collapsed": true
   },
   "outputs": [],
   "source": [
    "assert(np.all(spec3 != spec2))"
   ]
  },
  {
   "cell_type": "code",
   "execution_count": null,
   "metadata": {
    "collapsed": true
   },
   "outputs": [],
   "source": [
    "assert(np.all(spec4 == spec1))"
   ]
  },
  {
   "cell_type": "code",
   "execution_count": null,
   "metadata": {
    "collapsed": true
   },
   "outputs": [],
   "source": []
  }
 ],
 "metadata": {
  "anaconda-cloud": {},
  "kernelspec": {
   "display_name": "Python 3",
   "language": "python",
   "name": "python3"
  },
  "language_info": {
   "codemirror_mode": {
    "name": "ipython",
    "version": 3
   },
   "file_extension": ".py",
   "mimetype": "text/x-python",
   "name": "python",
   "nbconvert_exporter": "python",
   "pygments_lexer": "ipython3",
   "version": "3.5.3"
  }
 },
 "nbformat": 4,
 "nbformat_minor": 2
}
