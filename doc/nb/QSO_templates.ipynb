{
 "cells": [
  {
   "cell_type": "markdown",
   "metadata": {},
   "source": [
    "# Simple tests for QSO templates"
   ]
  },
  {
   "cell_type": "code",
   "execution_count": 2,
   "metadata": {
    "collapsed": false
   },
   "outputs": [],
   "source": [
    "# imports\n",
    "from desisim import templates as dst"
   ]
  },
  {
   "cell_type": "markdown",
   "metadata": {},
   "source": [
    "## Generate 100 "
   ]
  },
  {
   "cell_type": "code",
   "execution_count": 31,
   "metadata": {
    "collapsed": false
   },
   "outputs": [],
   "source": [
    "# Instantiate\n",
    "reload(dst)\n",
    "qso = dst.QSO()"
   ]
  },
  {
   "cell_type": "code",
   "execution_count": 32,
   "metadata": {
    "collapsed": false
   },
   "outputs": [
    {
     "name": "stdout",
     "output_type": "stream",
     "text": [
      "Making z=(0.5,0.7) with 6893 input quasars\n",
      "Making z=(0.7,0.9) with 6871 input quasars\n",
      "Making z=(0.9,1.1) with 8185 input quasars\n",
      "Making z=(1.1,1.3) with 9269 input quasars\n",
      "Making z=(1.3,1.5) with 9088 input quasars\n",
      "Making z=(1.5,1.7) with 10875 input quasars\n",
      "Making z=(1.7,1.9) with 10443 input quasars\n",
      "Making z=(1.9,2.1) with 7345 input quasars\n",
      "Making z=(2.1,2.3) with 21054 input quasars\n",
      "Making z=(2.3,2.5) with 28872 input quasars\n",
      "Making z=(2.5,2.7) with 18428 input quasars\n",
      "Making z=(2.7,2.9) with 10537 input quasars\n",
      "Making z=(2.9,3.1) with 8384 input quasars\n",
      "Making z=(3.1,3.3) with 6411 input quasars\n",
      "Making z=(3.3,3.5) with 2831 input quasars\n",
      "Making z=(3.5,3.7) with 1688 input quasars\n",
      "Making z=(3.7,3.9) with 1446 input quasars\n",
      "Making z=(3.9,4.1) with 681 input quasars\n"
     ]
    }
   ],
   "source": [
    "flux, wave, metadata = qso.make_templates(nmodel=100)"
   ]
  },
  {
   "cell_type": "code",
   "execution_count": 35,
   "metadata": {
    "collapsed": true
   },
   "outputs": [],
   "source": [
    "%matplotlib inline"
   ]
  },
  {
   "cell_type": "code",
   "execution_count": 36,
   "metadata": {
    "collapsed": false
   },
   "outputs": [
    {
     "data": {
      "image/png": "[encoded data removed]",
      "text/plain": [
       "<matplotlib.figure.Figure at 0x10d367410>"
      ]
     },
     "metadata": {},
     "output_type": "display_data"
    },
    {
     "data": {
      "text/plain": [
       "<function matplotlib.pyplot.close>"
      ]
     },
     "execution_count": 36,
     "metadata": {},
     "output_type": "execute_result"
    }
   ],
   "source": [
    "plt.clf()\n",
    "plt.plot(wave, flux[0,:])\n",
    "plt.show()\n",
    "plt.close"
   ]
  },
  {
   "cell_type": "code",
   "execution_count": null,
   "metadata": {
    "collapsed": true
   },
   "outputs": [],
   "source": []
  }
 ],
 "metadata": {
  "kernelspec": {
   "display_name": "Python 2",
   "language": "python",
   "name": "python2"
  }
 },
 "nbformat": 4,
 "nbformat_minor": 0
}
