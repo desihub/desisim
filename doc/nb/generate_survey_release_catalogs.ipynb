{
 "cells": [
  {
   "cell_type": "code",
   "execution_count": null,
   "metadata": {},
   "outputs": [],
   "source": [
    "# Usual Imports\n",
    "import os\n",
    "import numpy as np\n",
    "import matplotlib.pyplot as plt\n",
    "from desisim.survey_release import SurveyRelease\n",
    "\n",
    "%load_ext autoreload\n",
    "%autoreload 2"
   ]
  },
  {
   "cell_type": "code",
   "execution_count": null,
   "metadata": {},
   "outputs": [],
   "source": [
    "# Observed data\n",
    "catdir='/global/cfs/cdirs/desi/science/lya/y1-kp6/iron-tests/catalogs/'\n",
    "cat_name='QSO_cat_iron_main_dark_healpix_zlya-altbal_zwarn_cut_20230918.fits'\n",
    "cat_path = os.path.join(catdir,cat_name)"
   ]
  },
  {
   "cell_type": "markdown",
   "metadata": {},
   "source": [
    "# Generate mock catalog"
   ]
  },
  {
   "cell_type": "markdown",
   "metadata": {},
   "source": [
    "This function may be introduced intoo a for loop\n",
    "\n",
    "After making this catalog its path should be passed to quickquasars with the `--from_catalog` flag.\n",
    "\n",
    "Other flags like `--desi-footprint` are allowed but not needed with this approach.\n",
    "\n",
    "To include the 440nm dip in the throughput use `--year1-throughput` in quickquasars."
   ]
  },
  {
   "cell_type": "code",
   "execution_count": null,
   "metadata": {},
   "outputs": [],
   "source": [
    "# Read master catalog and prepare data catalog, takes a little bit of time if data catalg is provided.\n",
    "# Y5 mocks do not need a catalog path unless you want to use Y1 distributions for magnitudes. \n",
    "# Pass invert = True if you want to invert the random numbers generated: 1-random_number.\n",
    "# This allows generating independent mocks from the same seed.\n",
    "# TODO: Should probably refactor the class to make it clearer what refers to data and what to mocks.\n",
    "survey=SurveyRelease(mockteam='london',subversion='v9.0.0',seed=0, \n",
    "                     qso_only=True, data_file=cat_path,invert=False)\n",
    "# Apply redshift distribution\n",
    "# Note: For Y1 mocks (and probably Y5 too) the target selection redshift distribution from Chaussidon et al. 2022 works better to match QSO targets Iron catalog.\n",
    "# The option distribution='from_data' should be a better option once I finish implementing it.\n",
    "survey.apply_redshift_dist(distribution='target_selection',zmin=1.8)\n",
    "# Apply NPASS geometry:\n",
    "survey.apply_data_geometry(release='iron') # Pass release = None for Y5 mocks.\n",
    "# Assign magnitudes \n",
    "survey.assign_rband_magnitude(from_data=True) # Pass from_data = False for Y5 mocks. Unless you want to use the Y1 magnitude distributions.\n",
    "# Assign exposures\n",
    "survey.assign_exposures(exptime=None) # Pass exptime = 4000 for Y5 mocks.\n",
    "\n",
    "# Write mock catalog uncomment if needed\n",
    "#survey.mockcatalog.write('/path/to/output/outputcat_name.fits')"
   ]
  },
  {
   "cell_type": "markdown",
   "metadata": {},
   "source": [
    "# Quality check on mock catalog"
   ]
  },
  {
   "cell_type": "markdown",
   "metadata": {},
   "source": [
    "## Redshift distribution"
   ]
  },
  {
   "cell_type": "code",
   "execution_count": null,
   "metadata": {},
   "outputs": [],
   "source": [
    "dndz=plt.hist(survey.mockcatalog['Z'],bins=np.arange(1.8,4,0.1),histtype='step',label='mockcat',lw=2)\n",
    "plt.hist(survey.data['Z'],bins=np.arange(1.8,4,0.1),histtype='step',label=' data cat',lw=2)\n",
    "plt.legend(loc='best')\n",
    "plt.xlabel('Redshift')"
   ]
  },
  {
   "cell_type": "markdown",
   "metadata": {},
   "source": [
    "## Magnitude distribution"
   ]
  },
  {
   "cell_type": "code",
   "execution_count": null,
   "metadata": {},
   "outputs": [],
   "source": [
    "get_magnitude = lambda f: 22.5-2.5*np.log10(f)\n",
    "plt.hist(get_magnitude(survey.mockcatalog['FLUX_R']),bins=np.arange(18,24,0.1),histtype='step',label='mockcat',lw=2)\n",
    "plt.hist(get_magnitude(survey.data['FLUX_R']),bins=np.arange(18,24,0.1),histtype='step',label='data cat',lw=2)\n",
    "plt.legend(loc='best')\n",
    "plt.xlabel('r-band Magnitude')"
   ]
  },
  {
   "cell_type": "markdown",
   "metadata": {},
   "source": [
    "## Footprint"
   ]
  },
  {
   "cell_type": "code",
   "execution_count": null,
   "metadata": {},
   "outputs": [],
   "source": [
    "plt.figure(figsize=(15,10))\n",
    "plt.plot(survey.mockcatalog['RA'],survey.mockcatalog['DEC'],'.',label='mockcat',ms=0.1)\n",
    "plt.xlabel('RA')\n",
    "plt.ylabel('DEC')"
   ]
  },
  {
   "cell_type": "markdown",
   "metadata": {},
   "source": [
    "## Npasses"
   ]
  },
  {
   "cell_type": "code",
   "execution_count": null,
   "metadata": {},
   "outputs": [],
   "source": [
    "plt.figure(figsize=(15,10))\n",
    "plt.scatter(survey.mockcatalog['RA'],survey.mockcatalog['DEC'],c=survey.mockcatalog['NPASS'],s=0.001,cmap='jet')\n",
    "plt.colorbar(label='NPASS')\n",
    "plt.xlabel('RA')\n",
    "plt.ylabel('DEC')"
   ]
  },
  {
   "cell_type": "markdown",
   "metadata": {},
   "source": [
    "## Exposure time"
   ]
  },
  {
   "cell_type": "code",
   "execution_count": null,
   "metadata": {},
   "outputs": [],
   "source": [
    "plt.figure(figsize=(15,10))\n",
    "plt.scatter(survey.mockcatalog['RA'],survey.mockcatalog['DEC'],c=survey.mockcatalog['EXPTIME'],s=0.0001,cmap='jet')\n",
    "plt.colorbar(label='EXPTIME')\n",
    "plt.xlabel('RA')\n",
    "plt.ylabel('DEC')"
   ]
  },
  {
   "cell_type": "code",
   "execution_count": null,
   "metadata": {},
   "outputs": [],
   "source": []
  }
 ],
 "metadata": {
  "kernelspec": {
   "display_name": "DESI main",
   "language": "python",
   "name": "desi-main"
  },
  "language_info": {
   "codemirror_mode": {
    "name": "ipython",
    "version": 3
   },
   "file_extension": ".py",
   "mimetype": "text/x-python",
   "name": "python",
   "nbconvert_exporter": "python",
   "pygments_lexer": "ipython3",
   "version": "3.10.8"
  }
 },
 "nbformat": 4,
 "nbformat_minor": 4
}
