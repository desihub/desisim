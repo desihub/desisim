{
 "cells": [
  {
   "cell_type": "markdown",
   "metadata": {},
   "source": [
    "# Simulate QSO spectra.\n",
    "\n",
    "The purpose of this notebook is to demonstrate how to simulate QSO spectra using [simqso](https://github.com/moustakas/simqso).  We also compare the results with the default (PCA-based) QSO template-generating code."
   ]
  },
  {
   "cell_type": "code",
   "execution_count": 1,
   "metadata": {
    "collapsed": true
   },
   "outputs": [],
   "source": [
    "import numpy as np\n",
    "import matplotlib.pyplot as plt\n",
    "from matplotlib.patches import Polygon"
   ]
  },
  {
   "cell_type": "code",
   "execution_count": 2,
   "metadata": {
    "collapsed": true
   },
   "outputs": [],
   "source": [
    "from desisim.templates import SIMQSO, QSO"
   ]
  },
  {
   "cell_type": "code",
   "execution_count": 3,
   "metadata": {
    "collapsed": true
   },
   "outputs": [],
   "source": [
    "import multiprocessing\n",
    "nproc = multiprocessing.cpu_count() // 2"
   ]
  },
  {
   "cell_type": "code",
   "execution_count": 4,
   "metadata": {
    "collapsed": true
   },
   "outputs": [],
   "source": [
    "plt.style.use('seaborn-talk')\n",
    "%matplotlib inline"
   ]
  },
  {
   "cell_type": "code",
   "execution_count": 5,
   "metadata": {
    "collapsed": true
   },
   "outputs": [],
   "source": [
    "seed = 5\n",
    "simqso = SIMQSO()"
   ]
  },
  {
   "cell_type": "code",
   "execution_count": 6,
   "metadata": {},
   "outputs": [
    {
     "ename": "TypeError",
     "evalue": "'Spectrum' object is not iterable",
     "output_type": "error",
     "traceback": [
      "\u001b[0;31m---------------------------------------------------------------------------\u001b[0m",
      "\u001b[0;31mTypeError\u001b[0m                                 Traceback (most recent call last)",
      "\u001b[0;32m<ipython-input-6-52b64b7e489a>\u001b[0m in \u001b[0;36m<module>\u001b[0;34m()\u001b[0m\n\u001b[1;32m      1\u001b[0m \u001b[0mflux\u001b[0m\u001b[0;34m,\u001b[0m \u001b[0mwave\u001b[0m\u001b[0;34m,\u001b[0m \u001b[0mmeta\u001b[0m\u001b[0;34m,\u001b[0m \u001b[0mqmeta\u001b[0m \u001b[0;34m=\u001b[0m \u001b[0msimqso\u001b[0m\u001b[0;34m.\u001b[0m\u001b[0mmake_templates\u001b[0m\u001b[0;34m(\u001b[0m\u001b[0;36m5\u001b[0m\u001b[0;34m,\u001b[0m \u001b[0mseed\u001b[0m\u001b[0;34m=\u001b[0m\u001b[0mseed\u001b[0m\u001b[0;34m,\u001b[0m \u001b[0mreturn_qsometa\u001b[0m\u001b[0;34m=\u001b[0m\u001b[0;32mTrue\u001b[0m\u001b[0;34m)\u001b[0m\u001b[0;34m\u001b[0m\u001b[0m\n\u001b[0;32m----> 2\u001b[0;31m \u001b[0mff\u001b[0m\u001b[0;34m,\u001b[0m \u001b[0mww\u001b[0m\u001b[0;34m,\u001b[0m \u001b[0mmm\u001b[0m\u001b[0;34m,\u001b[0m \u001b[0mqq\u001b[0m \u001b[0;34m=\u001b[0m \u001b[0msimqso\u001b[0m\u001b[0;34m.\u001b[0m\u001b[0mmake_templates\u001b[0m\u001b[0;34m(\u001b[0m\u001b[0minput_qsometa\u001b[0m\u001b[0;34m=\u001b[0m\u001b[0mqmeta\u001b[0m\u001b[0;34m)\u001b[0m\u001b[0;34m\u001b[0m\u001b[0m\n\u001b[0m",
      "\u001b[0;32m~/repos/desihub/desisim/py/desisim/templates.py\u001b[0m in \u001b[0;36mmake_templates\u001b[0;34m(self, nmodel, zrange, rmagrange, seed, redshift, input_meta, input_qsometa, maxiter, lyaforest, nocolorcuts, return_qsometa, verbose)\u001b[0m\n\u001b[1;32m   2277\u001b[0m             outflux, meta, qsometa = self._make_simqso_templates(\n\u001b[1;32m   2278\u001b[0m                 \u001b[0minput_qsometa\u001b[0m\u001b[0;34m=\u001b[0m\u001b[0mqsos\u001b[0m\u001b[0;34m,\u001b[0m \u001b[0mlyaforest\u001b[0m\u001b[0;34m=\u001b[0m\u001b[0mlyaforest\u001b[0m\u001b[0;34m,\u001b[0m\u001b[0;34m\u001b[0m\u001b[0m\n\u001b[0;32m-> 2279\u001b[0;31m                 nocolorcuts=nocolorcuts)\n\u001b[0m\u001b[1;32m   2280\u001b[0m \u001b[0;34m\u001b[0m\u001b[0m\n\u001b[1;32m   2281\u001b[0m             log.debug('Generated {} templates from an input qso metadata table.'.format(\n",
      "\u001b[0;32m~/repos/desihub/desisim/py/desisim/templates.py\u001b[0m in \u001b[0;36m_make_simqso_templates\u001b[0;34m(self, redshift, rmagrange, seed, lyaforest, nocolorcuts, input_qsometa)\u001b[0m\n\u001b[1;32m   2117\u001b[0m             \u001b[0;32mfor\u001b[0m \u001b[0mii\u001b[0m \u001b[0;32min\u001b[0m \u001b[0mrange\u001b[0m\u001b[0;34m(\u001b[0m\u001b[0mnmodel\u001b[0m\u001b[0;34m)\u001b[0m\u001b[0;34m:\u001b[0m\u001b[0;34m\u001b[0m\u001b[0m\n\u001b[1;32m   2118\u001b[0m                 flux1, _ = buildQsoSpectrum(self.basewave, input_qsometa.cosmo,\n\u001b[0;32m-> 2119\u001b[0;31m                                             specFeatures, input_qsometa.data[ii])\n\u001b[0m\u001b[1;32m   2120\u001b[0m                 \u001b[0mflux\u001b[0m\u001b[0;34m[\u001b[0m\u001b[0mii\u001b[0m\u001b[0;34m,\u001b[0m \u001b[0;34m:\u001b[0m\u001b[0;34m]\u001b[0m \u001b[0;34m=\u001b[0m \u001b[0mflux1\u001b[0m\u001b[0;34m\u001b[0m\u001b[0m\n\u001b[1;32m   2121\u001b[0m \u001b[0;34m\u001b[0m\u001b[0m\n",
      "\u001b[0;31mTypeError\u001b[0m: 'Spectrum' object is not iterable"
     ]
    }
   ],
   "source": [
    "flux, wave, meta, qmeta = simqso.make_templates(5, seed=seed, return_qsometa=True)\n",
    "ff, ww, mm, qq = simqso.make_templates(input_qsometa=qmeta)"
   ]
  },
  {
   "cell_type": "code",
   "execution_count": null,
   "metadata": {
    "collapsed": true
   },
   "outputs": [],
   "source": [
    "stop"
   ]
  },
  {
   "cell_type": "markdown",
   "metadata": {},
   "source": [
    "#### Specify the random seed so the results are reproducible."
   ]
  },
  {
   "cell_type": "code",
   "execution_count": null,
   "metadata": {
    "collapsed": true
   },
   "outputs": [],
   "source": [
    "seed = 555\n",
    "rand = np.random.RandomState(seed)"
   ]
  },
  {
   "cell_type": "markdown",
   "metadata": {},
   "source": [
    "### Generate a handful of spectra with z=[2-4] extending into the mid-IR and display them."
   ]
  },
  {
   "cell_type": "code",
   "execution_count": null,
   "metadata": {
    "collapsed": true
   },
   "outputs": [],
   "source": [
    "nmodel = 9"
   ]
  },
  {
   "cell_type": "code",
   "execution_count": null,
   "metadata": {
    "collapsed": true
   },
   "outputs": [],
   "source": [
    "simqso = SIMQSO(maxwave=4e4)"
   ]
  },
  {
   "cell_type": "code",
   "execution_count": null,
   "metadata": {},
   "outputs": [],
   "source": [
    "%time flux, wave, meta = simqso.make_templates(nmodel, seed=seed, zrange=(2, 4))"
   ]
  },
  {
   "cell_type": "code",
   "execution_count": null,
   "metadata": {},
   "outputs": [],
   "source": [
    "meta"
   ]
  },
  {
   "cell_type": "code",
   "execution_count": null,
   "metadata": {
    "collapsed": true
   },
   "outputs": [],
   "source": [
    "qmeta"
   ]
  },
  {
   "cell_type": "code",
   "execution_count": null,
   "metadata": {
    "collapsed": true
   },
   "outputs": [],
   "source": [
    "def qaplot_handful(xlim=None, norm=False, logwave=True, loc='upper right'):\n",
    "    from matplotlib.ticker import FormatStrFormatter\n",
    "    srt = np.argsort(meta['REDSHIFT'])\n",
    "    zz = meta['REDSHIFT'][srt].data\n",
    "    #print(zz, 1215*(1+zz))\n",
    "    fig, ax1 = plt.subplots(figsize=(14, 9))\n",
    "    for ii in range(nmodel):\n",
    "        if norm:\n",
    "            ax1.plot(wave, flux[srt[ii], :] / \n",
    "                     np.interp(6300, wave, flux[srt[ii], :]) + ii*2, alpha=0.75, \n",
    "                     label='z={:.2f}'.format(zz[ii]))\n",
    "        else:\n",
    "            ax1.plot(wave, flux[srt[ii], :], alpha=0.75, \n",
    "                     label='z={:.2f}'.format(zz[ii]))\n",
    "    if xlim:\n",
    "        ax1.set_xlim(xlim)\n",
    "    if logwave:\n",
    "        ax1.set_xscale('log')\n",
    "\n",
    "    ax1.set_ylim(5e-2, ax1.get_ylim()[1])\n",
    "    #ax1.yaxis.set_major_formatter(FormatStrFormatter('%.0f'))\n",
    "    ax1.set_xlabel('Observed-Frame Wavelength ($\\AA$)')\n",
    "    ax1.legend(loc=loc, ncol=3)\n",
    "    if norm:\n",
    "        ax1.set_ylabel('Relative Flux (offset for clarity)')        \n",
    "    else:\n",
    "        ax1.set_yscale('log')\n",
    "        ax1.set_ylabel(r'Flux ($10^{-17}\\ erg\\ s^{-1}\\ cm^{-2}\\ \\AA^{-1}$)')\n",
    "    ax1.margins(0.02)"
   ]
  },
  {
   "cell_type": "markdown",
   "metadata": {},
   "source": [
    "#### Plot the full wavelength range."
   ]
  },
  {
   "cell_type": "code",
   "execution_count": null,
   "metadata": {
    "collapsed": true
   },
   "outputs": [],
   "source": [
    "qaplot_handful()"
   ]
  },
  {
   "cell_type": "markdown",
   "metadata": {},
   "source": [
    "#### Normalize and zoom into Lyman-alpha and the Lyman-alpha forest."
   ]
  },
  {
   "cell_type": "code",
   "execution_count": null,
   "metadata": {
    "collapsed": true
   },
   "outputs": [],
   "source": [
    "qaplot_handful((3600, 6100), norm=True, logwave=False, loc='upper left')"
   ]
  },
  {
   "cell_type": "markdown",
   "metadata": {},
   "source": [
    "### Make some templates using the PCA-based QSO() class and compare them."
   ]
  },
  {
   "cell_type": "code",
   "execution_count": null,
   "metadata": {
    "collapsed": true
   },
   "outputs": [],
   "source": [
    "qso = QSO(minwave=simqso.wave.min(), maxwave=simqso.wave.max())"
   ]
  },
  {
   "cell_type": "code",
   "execution_count": null,
   "metadata": {
    "collapsed": true
   },
   "outputs": [],
   "source": [
    "zin, magin = meta['REDSHIFT'].data, meta['MAG'].data\n",
    "%time qflux, qwave, qmeta = qso.make_templates(nmodel, seed=seed, redshift=zin, mag=magin, nocolorcuts=True)"
   ]
  },
  {
   "cell_type": "code",
   "execution_count": null,
   "metadata": {
    "collapsed": true
   },
   "outputs": [],
   "source": [
    "assert(np.all(qwave == wave))\n",
    "assert(np.all(meta['REDSHIFT'].data == qmeta['REDSHIFT'].data))\n",
    "assert(np.all(meta['MAG'].data == qmeta['MAG'].data))"
   ]
  },
  {
   "cell_type": "code",
   "execution_count": null,
   "metadata": {
    "collapsed": true
   },
   "outputs": [],
   "source": [
    "def compare_templates(nplot=nmodel, ncol=3, xlim=None):\n",
    "    \"\"\"Plot a random sampling of the basis templates.\"\"\"\n",
    "    \n",
    "    if xlim is None:\n",
    "        xlim = (3600, 8000)\n",
    "    \n",
    "    nspec, npix = flux.shape\n",
    "    nrow = np.ceil(nplot / ncol).astype('int')\n",
    "    these = np.argsort(meta['REDSHIFT'].data)\n",
    "\n",
    "    fig, ax = plt.subplots(nrow, ncol, figsize=(4*ncol, 3*nrow), sharey=False, sharex=True)\n",
    "    for ii, (thisax, indx) in enumerate(zip(ax.flat, these)):\n",
    "        zz = meta['REDSHIFT'].data[indx]\n",
    "        mm = meta['MAG'].data[indx]\n",
    "        thisax.plot(wave, flux[indx, :], label='SIMQSO')\n",
    "        thisax.plot(qwave, qflux[indx, :], alpha=0.7, label='QSO')\n",
    "        thisax.set_xlim(xlim)\n",
    "        ww = (wave > xlim[0]) * (wave < xlim[1])\n",
    "        ylim = (flux[indx, ww].min(), flux[indx, ww].max())\n",
    "        thisax.set_ylim((0.1, ylim[1]))\n",
    "        #thisax.set_xscale('log')\n",
    "        thisax.set_yscale('log')\n",
    "        thisax.yaxis.set_major_locator(plt.NullLocator())\n",
    "        thisax.yaxis.set_minor_locator(plt.NullLocator())\n",
    "        #if ii < nspec-ncol-1:\n",
    "        #    thisax.xaxis.set_major_locator(plt.NullLocator())\n",
    "        #    thisax.xaxis.set_minor_locator(plt.NullLocator())\n",
    "        thisax.text(0.88, 0.88, 'z={:.2f}\\nr={:.2f}'.format(zz, mm),\n",
    "                    horizontalalignment='center',\n",
    "                    verticalalignment='center',\n",
    "                    transform=thisax.transAxes, fontsize=10)\n",
    "        if ii == 0:\n",
    "            thisax.legend(loc='upper left')\n",
    "\n",
    "    #handles, labels = thisax.get_legend_handles_labels()\n",
    "    #plt.figlegend(handles, labels, loc=(0.89, 0.88))\n",
    "    fig.subplots_adjust(wspace=0.02, hspace=0.05)"
   ]
  },
  {
   "cell_type": "code",
   "execution_count": null,
   "metadata": {
    "collapsed": true
   },
   "outputs": [],
   "source": [
    "compare_templates()"
   ]
  },
  {
   "cell_type": "markdown",
   "metadata": {},
   "source": [
    "### Now make more spectra with the redshift priors specified.\n",
    "\n",
    "Turn off the Lyman-alpha forest for speed."
   ]
  },
  {
   "cell_type": "code",
   "execution_count": null,
   "metadata": {
    "collapsed": true
   },
   "outputs": [],
   "source": [
    "nmoremodel = 500\n",
    "redshift = rand.uniform(2, 4, nmoremodel)"
   ]
  },
  {
   "cell_type": "code",
   "execution_count": null,
   "metadata": {
    "collapsed": true
   },
   "outputs": [],
   "source": [
    "%time moreflux, morewave, moremeta, moreqsometa = simqso.make_templates(nmoremodel, seed=seed, redshift=redshift, \\\n",
    "                                                                        return_qsometa=True, lyaforest=False)"
   ]
  },
  {
   "cell_type": "code",
   "execution_count": null,
   "metadata": {
    "collapsed": true
   },
   "outputs": [],
   "source": [
    "%time moreqflux, _, moreqmeta = qso.make_templates(nmoremodel, seed=seed, redshift=redshift, \\\n",
    "                                                   mag=moremeta['MAG'].data, lyaforest=False)"
   ]
  },
  {
   "cell_type": "code",
   "execution_count": null,
   "metadata": {
    "collapsed": true
   },
   "outputs": [],
   "source": [
    "def qaplot_props():\n",
    "    bins = nmoremodel//15\n",
    "    fig, (ax1, ax2, ax3) = plt.subplots(1, 3, figsize=(12, 4), sharey=True)\n",
    "    _ = ax1.hist(moremeta['REDSHIFT'], bins=bins)\n",
    "    ax1.set_xlabel('Redshift')\n",
    "    ax1.set_ylabel('Number of Galaxies')\n",
    "    \n",
    "    _ = ax2.hist(moremeta['MAG'], bins=bins)\n",
    "    ax2.set_xlabel(r'$r_{\\rm DECaLS}$')\n",
    "    \n",
    "    _ = ax3.hist(moreqsometa['ABSMAG'], bins=bins)\n",
    "    ax3.set_xlabel(r'$M_{1450}$')\n",
    "    ax3.set_xlim(ax3.get_xlim()[::-1])\n",
    "    plt.subplots_adjust(wspace=0.1)"
   ]
  },
  {
   "cell_type": "markdown",
   "metadata": {},
   "source": [
    "#### Show the distribution of redshift, apparent magnitude, and absolute magnitude."
   ]
  },
  {
   "cell_type": "code",
   "execution_count": null,
   "metadata": {
    "collapsed": true
   },
   "outputs": [],
   "source": [
    "qaplot_props()"
   ]
  },
  {
   "cell_type": "code",
   "execution_count": null,
   "metadata": {
    "collapsed": true
   },
   "outputs": [],
   "source": [
    "def qaplot_vsz():\n",
    "    from matplotlib.ticker import MaxNLocator\n",
    "    \n",
    "    fig, (ax1, ax2) = plt.subplots(1, 2, figsize=(10, 4))\n",
    "    ax1.scatter(moremeta['REDSHIFT'], moremeta['MAG'], edgecolor='k', alpha=0.9, s=50)\n",
    "    ax1.set_xlabel('Redshift')\n",
    "    ax1.set_ylabel(r'$r_{\\rm DECaLS}$')\n",
    "    ax1.yaxis.set_major_locator(MaxNLocator(integer=True))\n",
    "    \n",
    "    ax2.scatter(moremeta['REDSHIFT'], moreqsometa['ABSMAG'], edgecolor='k', alpha=0.9, s=50)\n",
    "    ax2.set_ylabel(r'$M_{1450}$')\n",
    "    ax2.set_xlabel('Redshift')\n",
    "    ax2.set_ylim(ax2.get_ylim()[::-1])\n",
    "\n",
    "    plt.subplots_adjust(wspace=0.3)"
   ]
  },
  {
   "cell_type": "markdown",
   "metadata": {},
   "source": [
    "#### Show apparent and absolute magnitude vs redshift."
   ]
  },
  {
   "cell_type": "code",
   "execution_count": null,
   "metadata": {
    "collapsed": true
   },
   "outputs": [],
   "source": [
    "qaplot_vsz()"
   ]
  },
  {
   "cell_type": "code",
   "execution_count": null,
   "metadata": {
    "collapsed": true
   },
   "outputs": [],
   "source": [
    "def flux2colors(cat):\n",
    "    \"\"\"Convert DECam/WISE fluxes to magnitudes and colors.\"\"\"\n",
    "    colors = dict()\n",
    "    #with warnings.catch_warnings(): # ignore missing fluxes (e.g., for QSOs)\n",
    "    #    warnings.simplefilter('ignore')\n",
    "    colors['g'] = 22.5 - 2.5 * np.log10(cat['FLUX_G'])\n",
    "    colors['r'] = 22.5 - 2.5 * np.log10(cat['FLUX_R'])\n",
    "    colors['z'] = 22.5 - 2.5 * np.log10(cat['FLUX_Z'])\n",
    "    colors['gr'] = colors['g'] - colors['r']\n",
    "    colors['gz'] = colors['g'] - colors['z']\n",
    "    colors['rz'] = colors['r'] - colors['z']\n",
    "    colors['grz'] = 22.5-2.5*np.log10(cat['FLUX_G'] + 0.8 * cat['FLUX_R'] +  0.5 * cat['FLUX_G'] / 2.3)\n",
    "\n",
    "    with np.errstate(invalid='ignore'):\n",
    "        colors['W1'] = 22.5 - 2.5 * np.log10(cat['FLUX_W1'])\n",
    "        colors['W2'] = 22.5 - 2.5 * np.log10(cat['FLUX_W2'])\n",
    "        colors['W'] = 22.5 - 2.5 * np.log10(0.75 * cat['FLUX_W1'] + 0.25 * cat['FLUX_W2'])\n",
    "        colors['rW'] = colors['r'] - colors['W']\n",
    "        colors['W1W2'] = colors['W1'] - colors['W2']\n",
    "        colors['grzW'] = colors['grz'] - colors['W']\n",
    "\n",
    "    return colors"
   ]
  },
  {
   "cell_type": "code",
   "execution_count": null,
   "metadata": {
    "collapsed": true
   },
   "outputs": [],
   "source": [
    "def qso_colorbox(ax, plottype='gr-rz', verts=None):\n",
    "    \"\"\"Draw the QSO selection boxes.\"\"\"\n",
    "\n",
    "    xlim = ax.get_xlim()\n",
    "    ylim = ax.get_ylim()\n",
    "\n",
    "    if plottype == 'gr-rz':\n",
    "        verts = [(-0.3, 1.3),\n",
    "                 (1.1, 1.3),\n",
    "                 (1.1, ylim[0]-0.05),\n",
    "                 (-0.3, ylim[0]-0.05)\n",
    "                ]\n",
    "    \n",
    "    if plottype == 'r-W1W2':\n",
    "        verts = None\n",
    "        ax.axvline(x=22.7, ls='--', lw=2, color='k')\n",
    "        ax.axhline(y=-0.4, ls='--', lw=2, color='k')\n",
    "    \n",
    "    if plottype == 'gz-grzW':\n",
    "        gzaxis = np.linspace(-0.5, 2.0, 50)\n",
    "        ax.plot(gzaxis, np.polyval([1.0, -1.0], gzaxis), \n",
    "                 ls='--', lw=2, color='k')\n",
    "\n",
    "    if verts:\n",
    "        ax.add_patch(Polygon(verts, fill=False, ls='--', lw=2, color='k'))"
   ]
  },
  {
   "cell_type": "code",
   "execution_count": null,
   "metadata": {
    "collapsed": true
   },
   "outputs": [],
   "source": [
    "def qaplot_colorcolor(old=False):\n",
    "    fig, (ax1, ax2, ax3) = plt.subplots(1, 3, figsize=(14, 4))\n",
    "    ax1.scatter(colors['rz'], colors['gr'], edgecolor='k', \n",
    "                alpha=0.9, s=20, label='SIMQSO')\n",
    "    if old:\n",
    "        ax1.scatter(qcolors['rz'], qcolors['gr'], edgecolor='k', \n",
    "                    alpha=0.9, s=20, label='QSO')\n",
    "    ax1.set_xlabel('$r - z$')\n",
    "    ax1.set_ylabel('$g - r$')\n",
    "    ax1.set_xlim(-0.5, 1.5)\n",
    "    ax1.set_ylim(-1.0, 1.8)\n",
    "    qso_colorbox(ax1, 'gr-rz')\n",
    "    ax1.legend(loc='upper right', ncol=2)\n",
    "    \n",
    "    ax2.scatter(colors['r'], colors['W1W2'], edgecolor='k', alpha=0.9, s=20)\n",
    "    ax2.set_xlabel('$r$')\n",
    "    ax2.set_ylabel('$W_{1} - W_{2}$')\n",
    "    ax2.set_xlim(18, 23.5)\n",
    "    ax2.set_ylim(-0.5, 1)\n",
    "    qso_colorbox(ax2, 'r-W1W2')\n",
    "    \n",
    "    ax3.scatter(colors['gz'], colors['grzW'], edgecolor='k', alpha=0.9, s=20)\n",
    "    ax3.set_xlabel('$g - z$')\n",
    "    ax3.set_ylabel('$grz - W$')\n",
    "    ax3.set_xlim(-1, 1.5)\n",
    "    ax3.set_ylim(-1, 1.5)\n",
    "    qso_colorbox(ax3, 'gz-grzW')\n",
    "\n",
    "\n",
    "    plt.subplots_adjust(wspace=0.35)"
   ]
  },
  {
   "cell_type": "code",
   "execution_count": null,
   "metadata": {
    "collapsed": true
   },
   "outputs": [],
   "source": [
    "colors = flux2colors(moremeta)\n",
    "qcolors = flux2colors(moreqmeta)"
   ]
  },
  {
   "cell_type": "markdown",
   "metadata": {},
   "source": [
    "### Plot various color-color diagrams with the DESI/QSO selection boundaries overlaid."
   ]
  },
  {
   "cell_type": "code",
   "execution_count": null,
   "metadata": {
    "collapsed": true
   },
   "outputs": [],
   "source": [
    "qaplot_colorcolor(old=True)"
   ]
  },
  {
   "cell_type": "markdown",
   "metadata": {},
   "source": [
    "### Demonstrate how to regenerate templates from an input metadata table."
   ]
  },
  {
   "cell_type": "code",
   "execution_count": null,
   "metadata": {
    "collapsed": true
   },
   "outputs": [],
   "source": [
    "nmodel = 9"
   ]
  },
  {
   "cell_type": "code",
   "execution_count": null,
   "metadata": {
    "collapsed": true
   },
   "outputs": [],
   "source": [
    "simqso = SIMQSO(maxwave=4e4)"
   ]
  },
  {
   "cell_type": "code",
   "execution_count": null,
   "metadata": {
    "collapsed": true
   },
   "outputs": [],
   "source": [
    "%time flux, wave, meta, qmeta = simqso.make_templates(nmodel, seed=seed, zrange=(2, 4), return_qsometa=True)"
   ]
  }
 ],
 "metadata": {
  "anaconda-cloud": {},
  "kernelspec": {
   "display_name": "Python 3",
   "language": "python",
   "name": "python3"
  },
  "language_info": {
   "codemirror_mode": {
    "name": "ipython",
    "version": 3
   },
   "file_extension": ".py",
   "mimetype": "text/x-python",
   "name": "python",
   "nbconvert_exporter": "python",
   "pygments_lexer": "ipython3",
   "version": "3.5.3"
  }
 },
 "nbformat": 4,
 "nbformat_minor": 2
}
